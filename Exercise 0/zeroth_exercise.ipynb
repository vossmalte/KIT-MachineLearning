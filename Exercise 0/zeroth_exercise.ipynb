{
 "cells": [
  {
   "cell_type": "markdown",
   "metadata": {},
   "source": [
    "# Zeroth Exercise\n",
    "\n"
   ]
  },
  {
   "cell_type": "markdown",
   "metadata": {},
   "source": [
    "### 1. 1 Register as a Group in Ilias\n",
    "For submission please form a group of three students. You have to assign to a group in Ilias.\n",
    "You can use the \"Homework Group Finding Forum\" (https://ilias.studium.kit.edu/ilias.php?ref_id=1307493&cmd=showThreads&cmdClass=ilrepositorygui&cmdNode=ug&baseClass=ilRepositoryGUI)\n",
    "to team up.\n",
    "Although you will submit the homework as a group, to avoid confusions we ask all students to submit the homework in Ilias.\n",
    "Please make sure that every group member submits the same homework version.\n",
    "\n",
    "### 1.2 Introduction\n",
    "\n",
    "This is a test exercise to get familiar with the way the exercises are presented in the Lecture\n",
    "\"Machine Learning - Grundverfahren\".\n",
    "\n",
    "The exercise sheets comes in form of Jupyter notebooks, which consists of different cells.\n",
    "These can be used for markdowns (like this cell) or Python code.\n",
    "Each cell can be run separately to present the text properly or to execute the code.\n",
    "It is also possible to use $\\LaTeX$ equations inside the markdown environment.\n",
    "For more information about how to install and start Jupyter, visit https://jupyter-notebook.readthedocs.io/en/stable/\n",
    "\n",
    "The given Jupyter notebook should be filled out by where it is marked.\n",
    "**The exercises have to be solved and submitted as a group of three students**.\n",
    "\n",
    "\n",
    "There are either pen and paper questions to answer or programming tasks to code.\n",
    "You should answer the programming tasks inside this notebook.\n",
    "The theoretical questions can be answered here as well using the Markdown cells.\n",
    "It is also possible to answer them by pen and paper and scan the solution as a pdf.\n",
    "\n",
    "For the submission of the exercise please follow these steps: \n",
    "\n",
    "1. Make sure that every cell is executed and the output is printed.\n",
    "2. Create a PdF of the Jupyter notebook via *File $\\rightarrow$ ... $\\rightarrow$ PDF via LaTeX (.pdf)* or\n",
    " *File $\\rightarrow$ Print Preview $\\rightarrow$ Use your favorit PDF printing program*\n",
    "3. Zip your created PdF file and your original notebook, i.e. the .ipynb file,\n",
    "as well as your separate pen and paper solution if existent together.\n",
    "4. Rename your zip file with the following naming convention: group_y_uxxxx_uxxxx_uxxxx\n",
    "where y is your group number, uxxxx is the kit user from each group member/\n",
    "5. Upload the zip file to Ilias. Please make sure that every group member uploads the group submission.\n",
    "\n",
    "For this exercise, please try to fill in the code where stated.\n",
    "It demonstrates some basic operations we will need for this course.\n",
    "Then, submit this exercise following the instructions above.\n",
    "This submission is only for getting familiar with the submission procedure.\n",
    "It will not be graded."
   ]
  },
  {
   "cell_type": "markdown",
   "metadata": {
    "pycharm": {
     "name": "#%% md\n"
    }
   },
   "source": [
    "### Exercise 1: Matrices and Vectors in Python\n",
    "As mentioned, we will use Python for the coding exercise. We will use version 3.6.\n",
    "Additionally, for this and all following exercise we will use NumPy, one of the most fundamental python libraries,\n",
    "designed to efficiently create and operate on multi-dimensional arrays (, i.e., vectors, matrices and higher order tensors)\n",
    "\n",
    "If you are new to NumPy we refer to https://numpy.org/devdocs/user/quickstart.html .\n",
    "\n",
    "\n",
    "#### 1.1 Create Matrices and Vectors in Python\n",
    "We first create a matrix <br>\n",
    "\\begin{align*}A =\n",
    "\\begin{pmatrix}\n",
    "    1 & 2 & 3 \\\\\n",
    "    4 & 2 & 6 \\\\\n",
    "    7 & 3 & 8\n",
    "\\end{pmatrix}\n",
    "\\end{align*}\n",
    "and two vectors <br>\n",
    "\n",
    "\\begin{align*} v =\n",
    "\\begin{pmatrix}\n",
    "    3  \\\\\n",
    "    1  \\\\\n",
    "    2\n",
    "\\end{pmatrix}, ~w =\n",
    "\\begin{pmatrix}\n",
    "    1  \\\\\n",
    "    1  \\\\\n",
    "    2\n",
    "\\end{pmatrix}\n",
    "\\end{align*}\n",
    "\n"
   ]
  },
  {
   "cell_type": "code",
   "execution_count": 1,
   "metadata": {
    "pycharm": {
     "name": "#%%\n"
    }
   },
   "outputs": [
    {
     "name": "stdout",
     "output_type": "stream",
     "text": [
      "Matrix A:\n",
      "[[1 2 3]\n",
      " [4 2 6]\n",
      " [7 3 8]]\n",
      "Vector v:\n",
      "[3 1 2]\n",
      "Vector w:\n",
      "[1 1 2]\n"
     ]
    }
   ],
   "source": [
    "import numpy as np\n",
    "\n",
    "# Let us create a matrix A and vectors v and w:\n",
    "A = np.array([[1, 2, 3],\n",
    "              [4 ,2, 6],\n",
    "              [7, 3, 8]])\n",
    "v = np.array([3, 1, 2])\n",
    "w = np.array([1, 1, 2])\n",
    "print(\"Matrix A:\")\n",
    "print(A)\n",
    "print(\"Vector v:\")\n",
    "print(v)\n",
    "print(\"Vector w:\")\n",
    "print(w)\n",
    "\n"
   ]
  },
  {
   "cell_type": "markdown",
   "metadata": {},
   "source": [
    "#### 1.2 Basic Operations with Vectors and Matrices\n",
    "\n",
    "Implement the  v + w and 2 $\\cdot$ A. Print out your results and verify that they are correct."
   ]
  },
  {
   "cell_type": "code",
   "execution_count": 2,
   "metadata": {},
   "outputs": [
    {
     "ename": "SyntaxError",
     "evalue": "invalid syntax (<ipython-input-2-ff092243e077>, line 2)",
     "output_type": "error",
     "traceback": [
      "\u001B[0;36m  File \u001B[0;32m\"<ipython-input-2-ff092243e077>\"\u001B[0;36m, line \u001B[0;32m2\u001B[0m\n\u001B[0;31m    elem_wise_sum = # do the element-wise sum v+w here\u001B[0m\n\u001B[0m                                                      ^\u001B[0m\n\u001B[0;31mSyntaxError\u001B[0m\u001B[0;31m:\u001B[0m invalid syntax\n"
     ]
    }
   ],
   "source": [
    "# We can perform general element-wise operations:\n",
    "elem_wise_sum = # do the element-wise sum v+w here\n",
    "print(elem_wise_sum)\n",
    "print(\"----------\")\n",
    "elem_wise_mult = # do the element-wise multiblication 2*A here\n",
    "print(elem_wise_mult)"
   ]
  },
  {
   "cell_type": "markdown",
   "metadata": {},
   "source": [
    "Do the matrix vector product A $\\cdot$ v. Print out your result and verify that the result is correct. <br> <br>"
   ]
  },
  {
   "cell_type": "code",
   "execution_count": 3,
   "metadata": {},
   "outputs": [
    {
     "ename": "SyntaxError",
     "evalue": "invalid syntax (<ipython-input-3-dd9faa1e1aa6>, line 2)",
     "output_type": "error",
     "traceback": [
      "\u001B[0;36m  File \u001B[0;32m\"<ipython-input-3-dd9faa1e1aa6>\"\u001B[0;36m, line \u001B[0;32m2\u001B[0m\n\u001B[0;31m    matrix_vector_prod = # do the matrix vector product A*v here\u001B[0m\n\u001B[0m                                                                ^\u001B[0m\n\u001B[0;31mSyntaxError\u001B[0m\u001B[0;31m:\u001B[0m invalid syntax\n"
     ]
    }
   ],
   "source": [
    "# To perform a matrix multiplication, use either np.dot or just the \"@\" symbol:\n",
    "matrix_vector_prod = # do the matrix vector product A*v here\n",
    "print(matrix_vector_prod)"
   ]
  },
  {
   "cell_type": "markdown",
   "metadata": {},
   "source": [
    "Do the matrix matrix product A $\\cdot$ A. Print out your result and verify that the result is correct.\n"
   ]
  },
  {
   "cell_type": "code",
   "execution_count": 4,
   "metadata": {},
   "outputs": [
    {
     "ename": "SyntaxError",
     "evalue": "invalid syntax (<ipython-input-4-7f0798fde133>, line 2)",
     "output_type": "error",
     "traceback": [
      "\u001B[0;36m  File \u001B[0;32m\"<ipython-input-4-7f0798fde133>\"\u001B[0;36m, line \u001B[0;32m2\u001B[0m\n\u001B[0;31m    matrix_matrix_prod = # do the matrix matrix product A*A here\u001B[0m\n\u001B[0m                                                                ^\u001B[0m\n\u001B[0;31mSyntaxError\u001B[0m\u001B[0;31m:\u001B[0m invalid syntax\n"
     ]
    }
   ],
   "source": [
    "# Two matrices can be multiplied in the same fashion:\n",
    "matrix_matrix_prod = # do the matrix matrix product A*A here\n",
    "print(matrix_matrix_prod)"
   ]
  },
  {
   "cell_type": "markdown",
   "metadata": {
    "pycharm": {
     "name": "#%% md\n"
    }
   },
   "source": [
    "### Exercise 2: Sampling from a Gaussian\n",
    "Sample 1000 samples from a Gaussian distribution with mean $\\mu = -2$ and standard deviation $\\sigma=0.5$. <br>\n",
    "\n",
    "We also visualize the samples. For this we use matplotlib, a python package for plotting"
   ]
  },
  {
   "cell_type": "code",
   "execution_count": 5,
   "metadata": {},
   "outputs": [
    {
     "ename": "SyntaxError",
     "evalue": "invalid syntax (<ipython-input-5-207b58d377a6>, line 11)",
     "output_type": "error",
     "traceback": [
      "\u001B[0;36m  File \u001B[0;32m\"<ipython-input-5-207b58d377a6>\"\u001B[0;36m, line \u001B[0;32m11\u001B[0m\n\u001B[0;31m    samples = # do the sampling from the normal distribution here\u001B[0m\n\u001B[0m                                                                 ^\u001B[0m\n\u001B[0;31mSyntaxError\u001B[0m\u001B[0;31m:\u001B[0m invalid syntax\n"
     ]
    }
   ],
   "source": [
    "# for jupyter notebooks you need the following line of jupyter magic command (that's literally the name) \n",
    "# to display matplotlib figures inside the notebook. Make sure it comes before the actual import!\n",
    "%matplotlib inline\n",
    "#actually import matplotlib \n",
    "import matplotlib.pyplot as plt\n",
    "\n",
    "# In Machine Learning, it is often necessary to sample from a probability distribution.\n",
    "# To sample from a Gaussian distribution (https://en.wikipedia.org/wiki/Normal_distribution):\n",
    "\n",
    "mu, sigma = -2, 0.5 # mean and standard deviation\n",
    "samples = # do the sampling from the normal distribution here\n",
    "\n",
    "# plot the histogram of the samples \n",
    "count, bins, ignored = plt.hist(samples, 40, density=True)\n",
    "\n",
    "# plot the density function \n",
    "plt.plot(bins, 1/(sigma * np.sqrt(2 * np.pi)) * np.exp( - (bins - mu)**2 / (2 * sigma**2) ),  linewidth=2, color='r')\n",
    "\n",
    "# show the plot\n",
    "plt.show()\n"
   ]
  },
  {
   "cell_type": "markdown",
   "metadata": {
    "pycharm": {
     "name": "#%% md\n"
    }
   },
   "source": [
    "### Exercise 3: Solving a Linear Equation\n",
    "\n",
    "You are given the linear equation <br>\n",
    "\\begin{align*}\n",
    "Ax=v.\n",
    "\\end{align*} <br>\n",
    "We want to find the vector x. Assume that the matrix A and the vector v are given as in Exercise 1.1.\n",
    "Find the solution for x. Hint: Use the function 'linalg.solve' from numpy - this should always be preferred over direct\n",
    "matrix inversion."
   ]
  },
  {
   "cell_type": "code",
   "execution_count": 6,
   "metadata": {
    "pycharm": {
     "name": "#%%\n"
    }
   },
   "outputs": [
    {
     "ename": "SyntaxError",
     "evalue": "invalid syntax (<ipython-input-6-fa89ef1b11db>, line 4)",
     "output_type": "error",
     "traceback": [
      "\u001B[0;36m  File \u001B[0;32m\"<ipython-input-6-fa89ef1b11db>\"\u001B[0;36m, line \u001B[0;32m4\u001B[0m\n\u001B[0;31m    x = # solve for x here\u001B[0m\n\u001B[0m                          ^\u001B[0m\n\u001B[0;31mSyntaxError\u001B[0m\u001B[0;31m:\u001B[0m invalid syntax\n"
     ]
    }
   ],
   "source": [
    "# To solve the linear equation system A x = v, you may use the np.linalg.solve function. In other words we can\n",
    "# use np.linalg.solve for inverting any matrix which does not stand alone. \n",
    "\n",
    "x = # solve for x here\n",
    "\n",
    "print(\"Solution: x =\", x)\n",
    "print(\"Test: A@x = {A@x} is the same as v = {v}\")\n",
    "\n",
    "\n"
   ]
  },
  {
   "cell_type": "markdown",
   "metadata": {
    "pycharm": {
     "name": "#%% md\n"
    }
   },
   "source": [
    "## Closing Remarks\n",
    "\n",
    "NumPy provides easy and efficient ways to deal with vectors, matrices and tensors. Linear algebra functionality like\n",
    "the function introduced above, together with more advanced techniques such as broadcasting\n",
    "(https://numpy.org/doc/stable/user/basics.broadcasting.html ), are the key to efficient programming in Python.\n",
    "If you want to do any practical Machine Learning you need to familiarize yourself with those techniques.\n",
    "We will use and introduce more of this in the following exercises but also expect you to use it for your submission.\n",
    "So use them whenever possible and, most importantly, avoid unnecessary for loops.\n",
    "\n"
   ]
  },
  {
   "cell_type": "code",
   "execution_count": null,
   "metadata": {},
   "outputs": [],
   "source": []
  },
  {
   "cell_type": "code",
   "execution_count": null,
   "metadata": {},
   "outputs": [],
   "source": []
  }
 ],
 "metadata": {
  "kernelspec": {
   "display_name": "Python 3",
   "language": "python",
   "name": "python3"
  },
  "language_info": {
   "codemirror_mode": {
    "name": "ipython",
    "version": 3
   },
   "file_extension": ".py",
   "mimetype": "text/x-python",
   "name": "python",
   "nbconvert_exporter": "python",
   "pygments_lexer": "ipython3",
   "version": "3.6.9"
  }
 },
 "nbformat": 4,
 "nbformat_minor": 4
}